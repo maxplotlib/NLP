{
 "cells": [
  {
   "cell_type": "markdown",
   "id": "ba7ef02a",
   "metadata": {},
   "source": [
    "# Topic Modelling"
   ]
  },
  {
   "cell_type": "markdown",
   "id": "f612483b",
   "metadata": {},
   "source": [
    "### Topic modelling finds patterns in large texts and defines what are the mains topics in the text\n",
    " - gensim, a library mainly dedicated to Topic Modelling"
   ]
  },
  {
   "cell_type": "code",
   "execution_count": 1,
   "id": "e2e3db19",
   "metadata": {},
   "outputs": [],
   "source": [
    "import pandas as pd\n",
    "import numpy as np\n",
    "import pickle\n",
    "import textwrap\n",
    "from nltk.tokenize import word_tokenize\n",
    "from nltk.corpus import stopwords\n",
    "from nltk.stem import PorterStemmer"
   ]
  },
  {
   "cell_type": "code",
   "execution_count": 2,
   "id": "25de9ebe",
   "metadata": {},
   "outputs": [],
   "source": [
    "eng_stopwords = stopwords.words(\"english\")\n",
    "porterStemmer = PorterStemmer()"
   ]
  },
  {
   "cell_type": "code",
   "execution_count": 3,
   "id": "44a60184",
   "metadata": {},
   "outputs": [],
   "source": [
    "def wrap_text(text, max_cols=80):\n",
    "    text = textwrap.fill(text, width=max_cols)\n",
    "    print(text)"
   ]
  },
  {
   "cell_type": "markdown",
   "id": "bd7620ea",
   "metadata": {},
   "source": [
    "### dataset containing news of different topics"
   ]
  },
  {
   "cell_type": "code",
   "execution_count": 4,
   "id": "a6fd4a98",
   "metadata": {},
   "outputs": [],
   "source": [
    "news_file = \"../DATA/google_news.pkl\"\n",
    "\n",
    "with open(news_file, \"rb\") as f:\n",
    "    news = pickle.load(f)"
   ]
  },
  {
   "cell_type": "code",
   "execution_count": 5,
   "id": "090e0f9b",
   "metadata": {},
   "outputs": [
    {
     "data": {
      "text/html": [
       "<div>\n",
       "<style scoped>\n",
       "    .dataframe tbody tr th:only-of-type {\n",
       "        vertical-align: middle;\n",
       "    }\n",
       "\n",
       "    .dataframe tbody tr th {\n",
       "        vertical-align: top;\n",
       "    }\n",
       "\n",
       "    .dataframe thead th {\n",
       "        text-align: right;\n",
       "    }\n",
       "</style>\n",
       "<table border=\"1\" class=\"dataframe\">\n",
       "  <thead>\n",
       "    <tr style=\"text-align: right;\">\n",
       "      <th></th>\n",
       "      <th>news</th>\n",
       "    </tr>\n",
       "  </thead>\n",
       "  <tbody>\n",
       "    <tr>\n",
       "      <th>0</th>\n",
       "      <td>It's hard to find a word in the English langua...</td>\n",
       "    </tr>\n",
       "    <tr>\n",
       "      <th>1</th>\n",
       "      <td>Fan Bingbing, the popular Chinese actress who ...</td>\n",
       "    </tr>\n",
       "    <tr>\n",
       "      <th>2</th>\n",
       "      <td>As CEO of Tesla, Elon Musk's choice of wheels ...</td>\n",
       "    </tr>\n",
       "    <tr>\n",
       "      <th>3</th>\n",
       "      <td>China's People's Liberation Army on Thursday r...</td>\n",
       "    </tr>\n",
       "    <tr>\n",
       "      <th>4</th>\n",
       "      <td>SEOUL, South Korea (AP) — North Korea said Sat...</td>\n",
       "    </tr>\n",
       "  </tbody>\n",
       "</table>\n",
       "</div>"
      ],
      "text/plain": [
       "                                                news\n",
       "0  It's hard to find a word in the English langua...\n",
       "1  Fan Bingbing, the popular Chinese actress who ...\n",
       "2  As CEO of Tesla, Elon Musk's choice of wheels ...\n",
       "3  China's People's Liberation Army on Thursday r...\n",
       "4  SEOUL, South Korea (AP) — North Korea said Sat..."
      ]
     },
     "execution_count": 5,
     "metadata": {},
     "output_type": "execute_result"
    }
   ],
   "source": [
    "news.head()"
   ]
  },
  {
   "cell_type": "code",
   "execution_count": 6,
   "id": "5b08883c",
   "metadata": {},
   "outputs": [
    {
     "name": "stdout",
     "output_type": "stream",
     "text": [
      "It's hard to find a word in the English language that conjures a more visceral\n",
      "reaction from investors than \" bubble.\"    This market phenomenon has been\n",
      "associated with every boom-and-bust cycle throughout history, and has\n",
      "consistently preyed on the overzeal… [+2826 chars]David Rosenberg, chief\n",
      "economist and strategist at Gluskin Sheff, sounds the alarm on a Federal\n",
      "Reserve-induced bubble he sees expanding within the US economy. He points to\n",
      "inflated corporate balance sheets and looming debt servicing payments in order\n",
      "to bols…'Follow the bubble': Famed investor David Rosenberg breaks down the\n",
      "unique way he thinks the next US recession will unfold\n"
     ]
    }
   ],
   "source": [
    "wrap_text(news.news[0])"
   ]
  },
  {
   "cell_type": "code",
   "execution_count": 7,
   "id": "5fec7ef8",
   "metadata": {},
   "outputs": [],
   "source": [
    "# text preprocessing \n",
    "def clean_text(text):\n",
    "    text = text.lower()\n",
    "    tokens = word_tokenize(text)\n",
    "    tokens = [t for t in tokens if t.isalpha()]\n",
    "    tokens = [t for t in tokens if t not in eng_stopwords]\n",
    "    \n",
    "    return tokens"
   ]
  },
  {
   "cell_type": "code",
   "execution_count": 9,
   "id": "2baf4282",
   "metadata": {},
   "outputs": [],
   "source": [
    "# add new col with tokens \n",
    "news[\"tokens\"] = news.news.apply(clean_text)"
   ]
  },
  {
   "cell_type": "code",
   "execution_count": 10,
   "id": "6ef36658",
   "metadata": {},
   "outputs": [
    {
     "data": {
      "text/html": [
       "<div>\n",
       "<style scoped>\n",
       "    .dataframe tbody tr th:only-of-type {\n",
       "        vertical-align: middle;\n",
       "    }\n",
       "\n",
       "    .dataframe tbody tr th {\n",
       "        vertical-align: top;\n",
       "    }\n",
       "\n",
       "    .dataframe thead th {\n",
       "        text-align: right;\n",
       "    }\n",
       "</style>\n",
       "<table border=\"1\" class=\"dataframe\">\n",
       "  <thead>\n",
       "    <tr style=\"text-align: right;\">\n",
       "      <th></th>\n",
       "      <th>news</th>\n",
       "      <th>tokens</th>\n",
       "    </tr>\n",
       "  </thead>\n",
       "  <tbody>\n",
       "    <tr>\n",
       "      <th>0</th>\n",
       "      <td>It's hard to find a word in the English langua...</td>\n",
       "      <td>[hard, find, word, english, language, conjures...</td>\n",
       "    </tr>\n",
       "    <tr>\n",
       "      <th>1</th>\n",
       "      <td>Fan Bingbing, the popular Chinese actress who ...</td>\n",
       "      <td>[fan, bingbing, popular, chinese, actress, mys...</td>\n",
       "    </tr>\n",
       "    <tr>\n",
       "      <th>2</th>\n",
       "      <td>As CEO of Tesla, Elon Musk's choice of wheels ...</td>\n",
       "      <td>[ceo, tesla, elon, musk, choice, wheels, wo, h...</td>\n",
       "    </tr>\n",
       "  </tbody>\n",
       "</table>\n",
       "</div>"
      ],
      "text/plain": [
       "                                                news  \\\n",
       "0  It's hard to find a word in the English langua...   \n",
       "1  Fan Bingbing, the popular Chinese actress who ...   \n",
       "2  As CEO of Tesla, Elon Musk's choice of wheels ...   \n",
       "\n",
       "                                              tokens  \n",
       "0  [hard, find, word, english, language, conjures...  \n",
       "1  [fan, bingbing, popular, chinese, actress, mys...  \n",
       "2  [ceo, tesla, elon, musk, choice, wheels, wo, h...  "
      ]
     },
     "execution_count": 10,
     "metadata": {},
     "output_type": "execute_result"
    }
   ],
   "source": [
    "# peek\n",
    "news.head(3)"
   ]
  },
  {
   "cell_type": "markdown",
   "id": "e1bf3819",
   "metadata": {},
   "source": [
    "## 1. Latent Semantic Analysis (LSA)"
   ]
  },
  {
   "cell_type": "markdown",
   "id": "df4518c5",
   "metadata": {},
   "source": [
    "Latent Semantic Analysis (LSA) analyzes relationships between a set of documents and the terms they contain by producing a set of concepts (= the topics) related to the documents and terms.\n",
    " \n",
    "You can see it as a kind of PCA applied to your documents. Sometimes, it is also called Latent Semantic Indexing (LSI).\n"
   ]
  },
  {
   "cell_type": "markdown",
   "id": "a3f4e943",
   "metadata": {},
   "source": [
    "There are two steps in a LSA computation :\n",
    "\n",
    "- TF-IDF matrix \n",
    "- Singular Value Decomposition (the same technique used in PCA)\n",
    "\n",
    "⚠️  Like in a PCA, the topics don't have an actual meaning : they are more like a combination of words !"
   ]
  },
  {
   "cell_type": "code",
   "execution_count": 11,
   "id": "1c841cd4",
   "metadata": {},
   "outputs": [],
   "source": [
    "from gensim.models import TfidfModel, LsiModel\n",
    "from gensim.corpora import Dictionary"
   ]
  },
  {
   "cell_type": "code",
   "execution_count": 12,
   "id": "1a1e75c4",
   "metadata": {},
   "outputs": [],
   "source": [
    "# Compute the dictionary: this is a dictionary mapping words and their corresponding numbers for later visualisation\n",
    "word2dict = Dictionary(news.tokens)"
   ]
  },
  {
   "cell_type": "code",
   "execution_count": 13,
   "id": "f0496fa2",
   "metadata": {},
   "outputs": [
    {
     "name": "stdout",
     "output_type": "stream",
     "text": [
      "key : 0, value : alarm\n",
      "key : 1, value : associated\n",
      "key : 2, value : balance\n",
      "key : 3, value : breaks\n",
      "key : 4, value : bubble\n"
     ]
    }
   ],
   "source": [
    "i = 1\n",
    "for key,val in word2dict.items():\n",
    "    print(f\"key : {key}, value : {val}\")\n",
    "    if i == 5:\n",
    "        break\n",
    "    i +=1"
   ]
  },
  {
   "cell_type": "code",
   "execution_count": 14,
   "id": "992dac5f",
   "metadata": {},
   "outputs": [
    {
     "name": "stdout",
     "output_type": "stream",
     "text": [
      "[(0, 1), (1, 1), (2, 1), (3, 1), (4, 3), (5, 1), (6, 1), (7, 1), (8, 1), (9, 1), (10, 1), (11, 2), (12, 1), (13, 1), (14, 1), (15, 1), (16, 1), (17, 1), (18, 1), (19, 1), (20, 1), (21, 1), (22, 1), (23, 1), (24, 1), (25, 1), (26, 1), (27, 1), (28, 1), (29, 1), (30, 1), (31, 1), (32, 1), (33, 1), (34, 1), (35, 1), (36, 1), (37, 1), (38, 2), (39, 1), (40, 1), (41, 1), (42, 1), (43, 1), (44, 1), (45, 1), (46, 1), (47, 1), (48, 1), (49, 2), (50, 1), (51, 1), (52, 1), (53, 1)]\n"
     ]
    }
   ],
   "source": [
    "# corpus\n",
    "corpus = news.tokens\n",
    "# Create a BOW\n",
    "bow = [word2dict.doc2bow(token) for token in corpus]\n",
    "# bow for first doc\n",
    "print(bow[0])"
   ]
  },
  {
   "cell_type": "code",
   "execution_count": 20,
   "id": "63cc2296",
   "metadata": {},
   "outputs": [
    {
     "data": {
      "text/plain": [
       "54"
      ]
     },
     "execution_count": 20,
     "metadata": {},
     "output_type": "execute_result"
    }
   ],
   "source": [
    "len(set(corpus[0]))"
   ]
  },
  {
   "cell_type": "code",
   "execution_count": 15,
   "id": "aad02c3a",
   "metadata": {},
   "outputs": [
    {
     "data": {
      "text/plain": [
       "('alarm', 'bubble')"
      ]
     },
     "execution_count": 15,
     "metadata": {},
     "output_type": "execute_result"
    }
   ],
   "source": [
    "# word index = 0, appears 1 time in doc 0 | word index = 4, appears 3 times in doc 0\n",
    "word2dict[0], word2dict[4]"
   ]
  },
  {
   "cell_type": "code",
   "execution_count": 22,
   "id": "030c3fdf",
   "metadata": {},
   "outputs": [
    {
     "data": {
      "text/plain": [
       "[(0, 0.13086864839025095),\n",
       " (1, 0.13086864839025095),\n",
       " (2, 0.11328573264418323),\n",
       " (3, 0.13086864839025095),\n",
       " (4, 0.3926059451707528),\n",
       " (5, 0.00818772335862207),\n",
       " (6, 0.09004238232941891),\n",
       " (7, 0.13086864839025095),\n",
       " (8, 0.13086864839025095),\n",
       " (9, 0.11328573264418323),\n",
       " (10, 0.13086864839025095),\n",
       " (11, 0.22657146528836647),\n",
       " (12, 0.13086864839025095),\n",
       " (13, 0.13086864839025095),\n",
       " (14, 0.11328573264418323),\n",
       " (15, 0.11328573264418323),\n",
       " (16, 0.0957028168981155),\n",
       " (17, 0.13086864839025095),\n",
       " (18, 0.13086864839025095),\n",
       " (19, 0.11328573264418323),\n",
       " (20, 0.0957028168981155),\n",
       " (21, 0.13086864839025095),\n",
       " (22, 0.10300038627939405),\n",
       " (23, 0.10300038627939405),\n",
       " (24, 0.13086864839025095),\n",
       " (25, 0.11328573264418323),\n",
       " (26, 0.08541747053332634),\n",
       " (27, 0.13086864839025095),\n",
       " (28, 0.13086864839025095),\n",
       " (29, 0.07513212416853716),\n",
       " (30, 0.08150716332640358),\n",
       " (31, 0.13086864839025095),\n",
       " (32, 0.10300038627939405),\n",
       " (33, 0.13086864839025095),\n",
       " (34, 0.10300038627939405),\n",
       " (35, 0.13086864839025095),\n",
       " (36, 0.13086864839025095),\n",
       " (37, 0.13086864839025095),\n",
       " (38, 0.2617372967805019),\n",
       " (39, 0.13086864839025095),\n",
       " (40, 0.13086864839025095),\n",
       " (41, 0.13086864839025095),\n",
       " (42, 0.13086864839025095),\n",
       " (43, 0.13086864839025095),\n",
       " (44, 0.11328573264418323),\n",
       " (45, 0.13086864839025095),\n",
       " (46, 0.11328573264418323),\n",
       " (47, 0.13086864839025095),\n",
       " (48, 0.13086864839025095),\n",
       " (49, 0.1449189331667024),\n",
       " (50, 0.13086864839025095),\n",
       " (51, 0.06580412860277353),\n",
       " (52, 0.11328573264418323),\n",
       " (53, 0.13086864839025095)]"
      ]
     },
     "execution_count": 22,
     "metadata": {},
     "output_type": "execute_result"
    }
   ],
   "source": [
    "# Compute a TF-IDF for each token in each document\n",
    "tfidfModel = TfidfModel(bow)\n",
    "tfidf = tfidfModel[bow]\n",
    "# peek tf-idf for each token in doc 0\n",
    "list(tfidf)[0]"
   ]
  },
  {
   "cell_type": "code",
   "execution_count": null,
   "id": "5f934a6e",
   "metadata": {},
   "outputs": [],
   "source": [
    "# LSA model compute topics\n",
    "lsa = LsiModel(corpus=tfidf, num_topics=5, id2word=word2dict)"
   ]
  },
  {
   "cell_type": "code",
   "execution_count": null,
   "id": "a6706fcb",
   "metadata": {},
   "outputs": [
    {
     "data": {
      "text/plain": [
       "[(0,\n",
       "  '0.539*\"news\" + 0.323*\"transfer\" + 0.225*\"latest\" + 0.219*\"live\" + 0.197*\"minute\" + 0.197*\"bulletin\" + 0.181*\"five\" + 0.180*\"bbc\" + 0.143*\"world\" + 0.129*\"gossip\"'),\n",
       " (1,\n",
       "  '-0.406*\"bulletin\" + -0.406*\"minute\" + -0.375*\"bbc\" + -0.372*\"five\" + -0.290*\"world\" + 0.225*\"transfer\" + -0.203*\"gmt\" + 0.152*\"live\" + -0.145*\"latest\" + 0.104*\"news\"'),\n",
       " (2,\n",
       "  '-0.310*\"era\" + -0.210*\"nl\" + -0.188*\"al\" + -0.157*\"probables\" + -0.157*\"article\" + -0.155*\"edt\" + -0.152*\"pitching\" + -0.151*\"saturday\" + -0.142*\"central\" + -0.141*\"sox\"'),\n",
       " (3,\n",
       "  '0.314*\"assets\" + 0.236*\"coinbase\" + 0.222*\"crypto\" + 0.157*\"boasts\" + 0.157*\"mouth\" + 0.157*\"management\" + 0.157*\"approximately\" + 0.157*\"speak\" + 0.157*\"grayscale\" + 0.157*\"firm\"'),\n",
       " (4,\n",
       "  '-0.239*\"show\" + 0.226*\"assets\" + -0.221*\"full\" + 0.170*\"coinbase\" + -0.133*\"facebook\" + -0.130*\"technology\" + 0.124*\"crypto\" + -0.122*\"amazon\" + -0.116*\"best\" + 0.113*\"firm\"')]"
      ]
     },
     "execution_count": 28,
     "metadata": {},
     "output_type": "execute_result"
    }
   ],
   "source": [
    "# main topics\n",
    "lsa.print_topics()"
   ]
  },
  {
   "cell_type": "markdown",
   "id": "c2b32cb4",
   "metadata": {},
   "source": [
    "## 2. Latent Dirichlet Allocation (LDA)\n"
   ]
  },
  {
   "cell_type": "markdown",
   "id": "83045742",
   "metadata": {},
   "source": [
    "Latent Dirichlet Allocation (LDA) is, in a way, an improvement of the LSA. The problem with LSA is that it needs large corpuses of documents to be accurate enough.\n",
    "\n",
    "LDA is a probabilistic model (Bayesian probabilities) that allows more flexibility on the size of the dataset."
   ]
  },
  {
   "cell_type": "markdown",
   "id": "5b5b71ba",
   "metadata": {},
   "source": [
    "👉🏻 LDA makes two main assumptions:\n",
    "\n",
    "- **Mixture**: each document is a mixture of topics\n",
    "- **Sparsity**: each document covers a small set of topics, and each uses only a small subset of words frequently"
   ]
  },
  {
   "cell_type": "markdown",
   "id": "77f45a4a",
   "metadata": {},
   "source": [
    "👉🏻 Then the LDA algorithm follows the following steps:\n",
    "\n",
    "- Initialization: assign to each document a random (sparse) distribution of topics, and to each a random (sparse) distribution of words\n",
    "- For each word in each document, compute the most likely topic (according to other words in that document)\n",
    "- Repeat step 2 until convergence or iteration limit"
   ]
  },
  {
   "cell_type": "markdown",
   "id": "a6232e23",
   "metadata": {},
   "source": [
    "<figure>\n",
    " <img src=\"../IMAGES/LDA_image.jpeg\"   style=\"width:600px;height:300px;\">\n",
    "</figure>\n"
   ]
  },
  {
   "cell_type": "markdown",
   "id": "515a5e54",
   "metadata": {},
   "source": [
    "👉🏻 Expected LDA Output:\n",
    "\n",
    "- Topic A = 30% dog, 20% frog, 20& insect, 5% cute... = ANIMALS\n",
    "- Topic B = 30% Olympics, 20% players, 20% beat, 10% corner, 10% Dota, 2% dog = SPORTS\n",
    "- Topic C = 30% AI, 20% flying, 15% cars, 10% driven, 5% beat, Dota, players = TECH"
   ]
  },
  {
   "cell_type": "code",
   "execution_count": 31,
   "id": "04d4a75d",
   "metadata": {},
   "outputs": [],
   "source": [
    "from gensim.models.ldamodel import LdaModel"
   ]
  },
  {
   "cell_type": "code",
   "execution_count": 32,
   "id": "049cd84e",
   "metadata": {},
   "outputs": [],
   "source": [
    "# LDA model compute topics\n",
    "lda = LdaModel(corpus=tfidf, id2word=word2dict, num_topics=4, random_state=42, passes=10)"
   ]
  },
  {
   "cell_type": "code",
   "execution_count": null,
   "id": "5fbdafb8",
   "metadata": {},
   "outputs": [
    {
     "data": {
      "text/plain": [
       "[(0,\n",
       "  '0.003*\"news\" + 0.002*\"bbc\" + 0.002*\"minute\" + 0.002*\"bulletin\" + 0.002*\"five\" + 0.002*\"world\" + 0.002*\"latest\" + 0.001*\"transfer\" + 0.001*\"robot\" + 0.001*\"gmt\"'),\n",
       " (1,\n",
       "  '0.002*\"news\" + 0.001*\"technology\" + 0.001*\"transfer\" + 0.001*\"assets\" + 0.001*\"show\" + 0.001*\"crypto\" + 0.001*\"starlet\" + 0.001*\"companies\" + 0.001*\"live\" + 0.001*\"wright\"'),\n",
       " (2,\n",
       "  '0.002*\"news\" + 0.002*\"transfer\" + 0.001*\"sign\" + 0.001*\"live\" + 0.001*\"cartoon\" + 0.001*\"gunners\" + 0.001*\"dow\" + 0.001*\"apple\" + 0.001*\"full\" + 0.001*\"ozil\"'),\n",
       " (3,\n",
       "  '0.001*\"facebook\" + 0.001*\"one\" + 0.001*\"instagram\" + 0.001*\"amazon\" + 0.001*\"whatsapp\" + 0.001*\"new\" + 0.001*\"chicago\" + 0.001*\"alexa\" + 0.001*\"friday\" + 0.001*\"delivery\"')]"
      ]
     },
     "execution_count": 33,
     "metadata": {},
     "output_type": "execute_result"
    }
   ],
   "source": [
    "# main topics\n",
    "lda.print_topics()"
   ]
  },
  {
   "cell_type": "code",
   "execution_count": 34,
   "id": "26308bfe",
   "metadata": {},
   "outputs": [],
   "source": [
    "# with sklearn \n",
    "from sklearn.feature_extraction.text import TfidfVectorizer, CountVectorizer"
   ]
  },
  {
   "cell_type": "code",
   "execution_count": 39,
   "id": "93b14a54",
   "metadata": {},
   "outputs": [],
   "source": [
    "# compute tokens to tf-idf\n",
    "tfidfVectorizer = TfidfVectorizer(analyzer= lambda x: x)\n",
    "tfidf_sklearn = tfidfVectorizer.fit_transform(news.tokens)"
   ]
  },
  {
   "cell_type": "code",
   "execution_count": 40,
   "id": "87ee9f9a",
   "metadata": {},
   "outputs": [
    {
     "data": {
      "text/html": [
       "<div>\n",
       "<style scoped>\n",
       "    .dataframe tbody tr th:only-of-type {\n",
       "        vertical-align: middle;\n",
       "    }\n",
       "\n",
       "    .dataframe tbody tr th {\n",
       "        vertical-align: top;\n",
       "    }\n",
       "\n",
       "    .dataframe thead th {\n",
       "        text-align: right;\n",
       "    }\n",
       "</style>\n",
       "<table border=\"1\" class=\"dataframe\">\n",
       "  <thead>\n",
       "    <tr style=\"text-align: right;\">\n",
       "      <th></th>\n",
       "      <th>aaron</th>\n",
       "      <th>abandon</th>\n",
       "      <th>abandoning</th>\n",
       "      <th>ability</th>\n",
       "      <th>able</th>\n",
       "      <th>abrupt</th>\n",
       "      <th>abruptly</th>\n",
       "      <th>accept</th>\n",
       "      <th>access</th>\n",
       "      <th>accessed</th>\n",
       "      <th>...</th>\n",
       "      <th>yet</th>\n",
       "      <th>yichuan</th>\n",
       "      <th>york</th>\n",
       "      <th>youre</th>\n",
       "      <th>youtube</th>\n",
       "      <th>youve</th>\n",
       "      <th>zaha</th>\n",
       "      <th>zhong</th>\n",
       "      <th>zooming</th>\n",
       "      <th>zuckerberg</th>\n",
       "    </tr>\n",
       "  </thead>\n",
       "  <tbody>\n",
       "    <tr>\n",
       "      <th>0</th>\n",
       "      <td>0.0</td>\n",
       "      <td>0.0</td>\n",
       "      <td>0.0</td>\n",
       "      <td>0.000</td>\n",
       "      <td>0.0</td>\n",
       "      <td>0.0</td>\n",
       "      <td>0.0</td>\n",
       "      <td>0.0</td>\n",
       "      <td>0.0</td>\n",
       "      <td>0.0</td>\n",
       "      <td>...</td>\n",
       "      <td>0.0</td>\n",
       "      <td>0.0</td>\n",
       "      <td>0.0</td>\n",
       "      <td>0.0</td>\n",
       "      <td>0.0</td>\n",
       "      <td>0.0</td>\n",
       "      <td>0.0</td>\n",
       "      <td>0.0</td>\n",
       "      <td>0.0</td>\n",
       "      <td>0.000000</td>\n",
       "    </tr>\n",
       "    <tr>\n",
       "      <th>1</th>\n",
       "      <td>0.0</td>\n",
       "      <td>0.0</td>\n",
       "      <td>0.0</td>\n",
       "      <td>0.000</td>\n",
       "      <td>0.0</td>\n",
       "      <td>0.0</td>\n",
       "      <td>0.0</td>\n",
       "      <td>0.0</td>\n",
       "      <td>0.0</td>\n",
       "      <td>0.0</td>\n",
       "      <td>...</td>\n",
       "      <td>0.0</td>\n",
       "      <td>0.0</td>\n",
       "      <td>0.0</td>\n",
       "      <td>0.0</td>\n",
       "      <td>0.0</td>\n",
       "      <td>0.0</td>\n",
       "      <td>0.0</td>\n",
       "      <td>0.0</td>\n",
       "      <td>0.0</td>\n",
       "      <td>0.000000</td>\n",
       "    </tr>\n",
       "    <tr>\n",
       "      <th>2</th>\n",
       "      <td>0.0</td>\n",
       "      <td>0.0</td>\n",
       "      <td>0.0</td>\n",
       "      <td>0.000</td>\n",
       "      <td>0.0</td>\n",
       "      <td>0.0</td>\n",
       "      <td>0.0</td>\n",
       "      <td>0.0</td>\n",
       "      <td>0.0</td>\n",
       "      <td>0.0</td>\n",
       "      <td>...</td>\n",
       "      <td>0.0</td>\n",
       "      <td>0.0</td>\n",
       "      <td>0.0</td>\n",
       "      <td>0.0</td>\n",
       "      <td>0.0</td>\n",
       "      <td>0.0</td>\n",
       "      <td>0.0</td>\n",
       "      <td>0.0</td>\n",
       "      <td>0.0</td>\n",
       "      <td>0.110189</td>\n",
       "    </tr>\n",
       "    <tr>\n",
       "      <th>3</th>\n",
       "      <td>0.0</td>\n",
       "      <td>0.0</td>\n",
       "      <td>0.0</td>\n",
       "      <td>0.000</td>\n",
       "      <td>0.0</td>\n",
       "      <td>0.0</td>\n",
       "      <td>0.0</td>\n",
       "      <td>0.0</td>\n",
       "      <td>0.0</td>\n",
       "      <td>0.0</td>\n",
       "      <td>...</td>\n",
       "      <td>0.0</td>\n",
       "      <td>0.0</td>\n",
       "      <td>0.0</td>\n",
       "      <td>0.0</td>\n",
       "      <td>0.0</td>\n",
       "      <td>0.0</td>\n",
       "      <td>0.0</td>\n",
       "      <td>0.0</td>\n",
       "      <td>0.0</td>\n",
       "      <td>0.000000</td>\n",
       "    </tr>\n",
       "    <tr>\n",
       "      <th>4</th>\n",
       "      <td>0.0</td>\n",
       "      <td>0.0</td>\n",
       "      <td>0.0</td>\n",
       "      <td>0.075</td>\n",
       "      <td>0.0</td>\n",
       "      <td>0.0</td>\n",
       "      <td>0.0</td>\n",
       "      <td>0.0</td>\n",
       "      <td>0.0</td>\n",
       "      <td>0.0</td>\n",
       "      <td>...</td>\n",
       "      <td>0.0</td>\n",
       "      <td>0.0</td>\n",
       "      <td>0.0</td>\n",
       "      <td>0.0</td>\n",
       "      <td>0.0</td>\n",
       "      <td>0.0</td>\n",
       "      <td>0.0</td>\n",
       "      <td>0.0</td>\n",
       "      <td>0.0</td>\n",
       "      <td>0.000000</td>\n",
       "    </tr>\n",
       "  </tbody>\n",
       "</table>\n",
       "<p>5 rows × 2799 columns</p>\n",
       "</div>"
      ],
      "text/plain": [
       "   aaron  abandon  abandoning  ability  able  abrupt  abruptly  accept  \\\n",
       "0    0.0      0.0         0.0    0.000   0.0     0.0       0.0     0.0   \n",
       "1    0.0      0.0         0.0    0.000   0.0     0.0       0.0     0.0   \n",
       "2    0.0      0.0         0.0    0.000   0.0     0.0       0.0     0.0   \n",
       "3    0.0      0.0         0.0    0.000   0.0     0.0       0.0     0.0   \n",
       "4    0.0      0.0         0.0    0.075   0.0     0.0       0.0     0.0   \n",
       "\n",
       "   access  accessed  ...  yet  yichuan  york  youre  youtube  youve  zaha  \\\n",
       "0     0.0       0.0  ...  0.0      0.0   0.0    0.0      0.0    0.0   0.0   \n",
       "1     0.0       0.0  ...  0.0      0.0   0.0    0.0      0.0    0.0   0.0   \n",
       "2     0.0       0.0  ...  0.0      0.0   0.0    0.0      0.0    0.0   0.0   \n",
       "3     0.0       0.0  ...  0.0      0.0   0.0    0.0      0.0    0.0   0.0   \n",
       "4     0.0       0.0  ...  0.0      0.0   0.0    0.0      0.0    0.0   0.0   \n",
       "\n",
       "   zhong  zooming  zuckerberg  \n",
       "0    0.0      0.0    0.000000  \n",
       "1    0.0      0.0    0.000000  \n",
       "2    0.0      0.0    0.110189  \n",
       "3    0.0      0.0    0.000000  \n",
       "4    0.0      0.0    0.000000  \n",
       "\n",
       "[5 rows x 2799 columns]"
      ]
     },
     "execution_count": 40,
     "metadata": {},
     "output_type": "execute_result"
    }
   ],
   "source": [
    "pd.DataFrame(data=tfidf_sklearn.toarray(), columns=tfidfVectorizer.get_feature_names_out()).head()"
   ]
  },
  {
   "cell_type": "code",
   "execution_count": 41,
   "id": "c5bbd66e",
   "metadata": {},
   "outputs": [],
   "source": [
    "from gensim.matutils import Sparse2Corpus"
   ]
  },
  {
   "cell_type": "code",
   "execution_count": 42,
   "id": "a4ecbdda",
   "metadata": {},
   "outputs": [],
   "source": [
    "# Convert the sklearn sparse matrix to the needed input for Gensim\n",
    "sparse2Corpus = Sparse2Corpus(sparse=tfidf_sklearn, documents_columns=False)"
   ]
  },
  {
   "cell_type": "code",
   "execution_count": 45,
   "id": "228c5efe",
   "metadata": {},
   "outputs": [],
   "source": [
    "# LDA v2 compute topics\n",
    "lda_v2 = LdaModel(corpus= sparse2Corpus, num_topics=5, id2word=word2dict, passes=10)"
   ]
  },
  {
   "cell_type": "code",
   "execution_count": 46,
   "id": "6e171264",
   "metadata": {},
   "outputs": [
    {
     "data": {
      "text/plain": [
       "[(0,\n",
       "  '0.009*\"demonstrators\" + 0.005*\"roundup\" + 0.004*\"summertime\" + 0.003*\"gas\" + 0.002*\"latest\" + 0.002*\"app\" + 0.002*\"serious\" + 0.002*\"fiction\" + 0.002*\"components\" + 0.002*\"value\"'),\n",
       " (1,\n",
       "  '0.001*\"help\" + 0.001*\"lucas\" + 0.001*\"said\" + 0.001*\"football\" + 0.001*\"eroded\" + 0.001*\"mostly\" + 0.001*\"account\" + 0.001*\"seriouslyjust\" + 0.001*\"ramping\" + 0.001*\"thanks\"'),\n",
       " (2,\n",
       "  '0.001*\"kidney\" + 0.001*\"account\" + 0.001*\"writer\" + 0.001*\"today\" + 0.001*\"grayscale\" + 0.001*\"rented\" + 0.001*\"personal\" + 0.001*\"thanks\" + 0.001*\"pests\" + 0.001*\"response\"'),\n",
       " (3,\n",
       "  '0.002*\"sky\" + 0.002*\"asbestos\" + 0.002*\"help\" + 0.001*\"bingbing\" + 0.001*\"need\" + 0.001*\"schmeichel\" + 0.001*\"central\" + 0.001*\"wan\" + 0.001*\"presidential\" + 0.001*\"abrupt\"'),\n",
       " (4,\n",
       "  '0.001*\"easily\" + 0.001*\"help\" + 0.001*\"others\" + 0.001*\"pennsylvania\" + 0.001*\"swing\" + 0.001*\"sketch\" + 0.001*\"winter\" + 0.001*\"appeal\" + 0.001*\"carrier\" + 0.001*\"ftc\"')]"
      ]
     },
     "execution_count": 46,
     "metadata": {},
     "output_type": "execute_result"
    }
   ],
   "source": [
    "lda_v2.print_topics()"
   ]
  },
  {
   "cell_type": "markdown",
   "id": "c0272ed8",
   "metadata": {},
   "source": [
    "⚠️ Careful : documents are represented in columns in gensim TD-IDF sparse matrix, while documents are represented in rows in sklearn TD-IDF sparse matrix. \n",
    "\n",
    "IfTo use sklearn TF-IDF with gensim LDA, you should set documents_columns=False"
   ]
  },
  {
   "cell_type": "markdown",
   "id": "e5f3ec4c",
   "metadata": {},
   "source": [
    "## LDA visualization"
   ]
  },
  {
   "cell_type": "code",
   "execution_count": 47,
   "id": "215abaf8",
   "metadata": {},
   "outputs": [],
   "source": [
    "import pyLDAvis\n",
    "from pyLDAvis import gensim\n",
    "pyLDAvis.enable_notebook()"
   ]
  },
  {
   "cell_type": "code",
   "execution_count": 50,
   "id": "a83a0270",
   "metadata": {},
   "outputs": [],
   "source": [
    "viz = gensim.prepare(topic_model=lda_v2, corpus=bow, dictionary=word2dict)"
   ]
  },
  {
   "cell_type": "code",
   "execution_count": 51,
   "id": "5fc6e195",
   "metadata": {},
   "outputs": [
    {
     "data": {
      "text/html": [
       "\n",
       "<link rel=\"stylesheet\" type=\"text/css\" href=\"https://cdn.jsdelivr.net/gh/bmabey/pyLDAvis@3.4.0/pyLDAvis/js/ldavis.v1.0.0.css\">\n",
       "\n",
       "\n",
       "<div id=\"ldavis_el21948138263857441531384183\" style=\"background-color:white;\"></div>\n",
       "<script type=\"text/javascript\">\n",
       "\n",
       "var ldavis_el21948138263857441531384183_data = {\"mdsDat\": {\"x\": [0.010887875411309502, -0.033908931024525024, 0.009389554694752536, 0.008372834748229849, 0.00525866617023315], \"y\": [0.0203108798887193, 0.0011039444252545843, -0.014296015927572256, -0.003866230663848949, -0.003252577722552675], \"topics\": [1, 2, 3, 4, 5], \"cluster\": [1, 1, 1, 1, 1], \"Freq\": [29.207474348920332, 23.923273294188803, 21.942803014778402, 17.19413538450001, 7.732313957612447]}, \"tinfo\": {\"Term\": [\"demonstrators\", \"roundup\", \"summertime\", \"gas\", \"app\", \"serious\", \"components\", \"latest\", \"value\", \"account\", \"kidney\", \"shell\", \"swimming\", \"advertise\", \"planned\", \"demonstrated\", \"rented\", \"lucas\", \"today\", \"personal\", \"pests\", \"ivy\", \"grayscale\", \"dakota\", \"thousands\", \"response\", \"thanks\", \"yet\", \"writer\", \"neck\", \"central\", \"wan\", \"thursday\", \"tariffs\", \"need\", \"quickly\", \"posts\", \"development\", \"running\", \"charging\", \"advance\", \"manchester\", \"bingbing\", \"sky\", \"risk\", \"management\", \"impressive\", \"forcibly\", \"sorts\", \"veteran\", \"american\", \"crime\", \"violence\", \"presidential\", \"whether\", \"streets\", \"trumps\", \"decommissioned\", \"weeks\", \"matthew\", \"robocar\", \"schmeichel\", \"asbestos\", \"months\", \"reached\", \"appear\", \"unclearwhat\", \"top\", \"imports\", \"help\", \"abrupt\", \"matter\", \"appeal\", \"tfue\", \"pounding\", \"fcc\", \"lance\", \"ninth\", \"used\", \"nl\", \"roundup\", \"demonstrators\", \"summertime\", \"app\", \"serious\", \"value\", \"gas\", \"advertise\", \"planned\", \"shell\", \"components\", \"latest\", \"demonstrated\", \"ivy\", \"cartoon\", \"dakota\", \"warning\", \"thousands\", \"folic\", \"tokens\", \"kept\", \"genes\", \"dissent\", \"tech\", \"pharmaembraces\", \"sothursday\", \"half\", \"tested\", \"swimming\", \"telling\", \"fiction\", \"unlimited\", \"darren\", \"lets\", \"help\", \"football\", \"lucas\", \"experienced\", \"efl\", \"couple\", \"ramping\", \"confirms\", \"brainstorm\", \"press\", \"week\", \"first\", \"departments\", \"brendan\", \"widespread\", \"appears\", \"camera\", \"transportation\", \"pollozi\", \"said\", \"sporting\", \"trick\", \"network\", \"probables\", \"milwaukee\", \"english\", \"euphoria\", \"went\", \"gamer\", \"wary\", \"sees\", \"blackpool\", \"detwiler\", \"account\", \"purchasing\", \"mostly\", \"vicious\", \"rife\", \"eroded\", \"thanks\", \"help\", \"border\", \"scientists\", \"seriouslyjust\", \"defends\", \"abrupt\", \"trash\", \"information\", \"swing\", \"sketch\", \"refs\", \"youre\", \"merchants\", \"stays\", \"winter\", \"ratings\", \"campus\", \"korean\", \"wsj\", \"humbled\", \"diversified\", \"prevent\", \"father\", \"hello\", \"wouldnt\", \"hardware\", \"reportedly\", \"confident\", \"assistant\", \"hairs\", \"year\", \"contractors\", \"mick\", \"publication\", \"shuttles\", \"timbers\", \"worst\", \"turn\", \"pennsylvania\", \"stock\", \"brand\", \"boeing\", \"ftc\", \"carrier\", \"easily\", \"others\", \"trash\", \"forum\", \"help\", \"rear\", \"plus\", \"appeal\", \"cars\", \"imports\", \"date\", \"creative\", \"seriouslyjust\", \"personal\", \"response\", \"rented\", \"crushed\", \"propaganda\", \"drinkablea\", \"strategist\", \"passengers\", \"dent\", \"slice\", \"really\", \"pumps\", \"today\", \"medicines\", \"kidney\", \"seconds\", \"neck\", \"grayscale\", \"rays\", \"nola\", \"goals\", \"render\", \"ago\", \"bloodbath\", \"seems\", \"pen\", \"goods\", \"founders\", \"system\", \"assault\", \"anticompetitive\", \"diverted\", \"account\", \"writer\", \"tumultuous\", \"pests\", \"thanks\", \"yet\", \"japan\", \"fieldsan\", \"months\", \"unclearwhat\", \"appeal\", \"help\", \"expensive\", \"bring\"], \"Freq\": [17.0, 9.0, 7.0, 7.0, 5.0, 5.0, 5.0, 6.0, 5.0, 4.0, 3.0, 4.0, 6.0, 4.0, 4.0, 4.0, 2.0, 3.0, 3.0, 2.0, 4.0, 4.0, 3.0, 4.0, 4.0, 2.0, 4.0, 2.0, 4.0, 2.0, 2.662615416223757, 2.6480071157293366, 2.1884208609913327, 2.0495155331254566, 2.869364211129635, 1.98724680498042, 1.97576549749436, 1.9051391483835485, 1.9050998247932243, 1.8911326287188335, 1.8818390354500276, 1.8790549724906203, 2.9310710724795896, 4.1694554834114115, 1.8413227476415488, 1.8403499316142498, 1.835291831481051, 1.7663262840949214, 1.7462282686846147, 1.7462038242906293, 1.7238536181456, 1.7238533819678803, 1.722538462513647, 2.546305919331362, 1.6880646635739296, 1.6880602942861158, 1.8383574182822986, 1.6629009903433947, 1.6559985783973339, 1.647749008738306, 2.374886240976967, 2.700454629579837, 3.4059486536772847, 2.3475541020133304, 1.8745686586167294, 2.429163895977149, 2.393015478916149, 2.291516686823927, 2.207649742393273, 3.3785973843183554, 2.4727091630403275, 2.1079877044268835, 2.421956224328422, 2.112803131953127, 1.918857767407992, 2.016033090164032, 2.003732718346175, 1.9107867481050305, 1.9502544068381982, 1.9463912478776426, 7.848638697053857, 14.46492798375642, 5.831542724209764, 4.050536028433974, 4.050395971669606, 3.785041794996827, 5.632579322818963, 3.1576447514033132, 3.157576270609686, 3.275611623612498, 3.8009614515809806, 4.135972202287211, 3.19693937899426, 3.243078990770854, 2.701600001417374, 3.1093992584983856, 2.6968483242030383, 3.1086987812279743, 2.461183279847801, 2.2359542054751307, 2.1285329885874584, 2.100892863518797, 2.107273377688908, 2.3756911993579592, 3.0031091353969863, 3.0224234274799455, 1.982187791568135, 1.9020896375435998, 3.6614923839670053, 1.8387607662207677, 3.8771523313973506, 2.6821938212638696, 2.3040082515582676, 2.4547130055414095, 2.3078642618954968, 1.7869137233462715, 2.0802487998857524, 1.6501819609453467, 1.5710733337053209, 1.5709794710799194, 1.6815370459835077, 1.5340368096022192, 1.51117105785769, 1.4865552738365364, 1.4865467570009612, 1.4865223598157198, 1.4864984062156645, 1.4631549132255903, 1.4095412558457803, 1.4095302549331623, 1.393748026310137, 1.3937333879989922, 1.3699440918967796, 1.9482154917771333, 1.3487467527546124, 1.3430732095059863, 1.343087404231945, 1.343080395586003, 1.343069039805236, 1.3130781566487364, 1.3130763823079916, 1.306899547307095, 1.3068930709633764, 1.3027531791375426, 1.3027326855019399, 1.5930685938804372, 1.446721501549213, 1.7109962479358194, 1.507546612018229, 1.7163143020162193, 1.4573213244417806, 1.5173840894097812, 1.723917706975958, 1.665696973852201, 2.1592218674928736, 1.4872867458085919, 1.5473557209691993, 1.6961957620469077, 1.5892766502746645, 1.5436288956687618, 1.4889311160938616, 1.4612759750938542, 1.335703936373362, 1.3356688994628496, 1.1656477030351706, 1.1592353922699872, 1.1278049199393683, 1.1170880049364253, 1.2634977300451293, 1.1080976310237265, 1.0807432583180616, 1.0536714749799214, 1.0438299961160284, 1.0438097664712684, 1.0264878376953246, 1.026487073000849, 1.0264865168594124, 1.022114619507812, 1.022111769282949, 1.006379223215422, 1.0063759558844814, 1.0000919052381376, 1.0000917662027784, 1.0000878036950418, 0.999953008914321, 0.9999450143811683, 0.9874815371962603, 0.9792118530678486, 0.975737498477407, 0.9467526581146887, 0.9467454282760116, 0.9399597380537618, 1.3467288842145586, 1.1453303964811454, 1.0779763156351059, 1.1383862059494352, 1.2240422758182479, 1.2254233140409403, 1.6504382789394034, 1.4171381975608044, 1.216967183495874, 1.070074727620112, 1.4978853460032007, 1.0756854300219678, 1.0859718220352232, 1.2310598075019232, 1.0603095791684063, 1.1012789199036723, 1.0513009221059757, 1.0507122463952259, 1.046447684340909, 0.6483310236720844, 0.5968649875379983, 0.6535551208954441, 0.5483043677886198, 0.5218167655423815, 0.5127415285219253, 0.5127406844330643, 0.5127348070735877, 0.51272808562525, 0.5127256784088686, 0.5057481585207817, 0.503229084734015, 0.6817972087331234, 0.4911993491247109, 0.7642935770506675, 0.47784664490724593, 0.5719724944012218, 0.6654540852563919, 0.4673954805182378, 0.5220047159954337, 0.46509383776955787, 0.4650875539969259, 0.4611258385590367, 0.45934274773397243, 0.44666625248183006, 0.44666615869417886, 0.4466577490681191, 0.4358703872120246, 0.4358699495363189, 0.43586857398410095, 0.4906950529240813, 0.4867751355160875, 0.7450026451708754, 0.7080142961306821, 0.5215285873527216, 0.6308345621857051, 0.6426223569174024, 0.5168692481024805, 0.5354417040487984, 0.4844892178302627, 0.571414082725836, 0.577687163565582, 0.5479616051859476, 0.5594572201215329, 0.5016973760767804, 0.49524569228655424], \"Total\": [17.0, 9.0, 7.0, 7.0, 5.0, 5.0, 5.0, 6.0, 5.0, 4.0, 3.0, 4.0, 6.0, 4.0, 4.0, 4.0, 2.0, 3.0, 3.0, 2.0, 4.0, 4.0, 3.0, 4.0, 4.0, 2.0, 4.0, 2.0, 4.0, 2.0, 4.012083474226868, 4.237854858734558, 3.5408705101572373, 3.3989812716600434, 4.808493078409386, 3.336650679925979, 3.3251597401194215, 3.2546440375085264, 3.2546271456211358, 3.2424794737310054, 3.233093447813219, 3.22846696032236, 5.055164035949868, 7.224399072498589, 3.191224369244964, 3.18977062513104, 3.184672891870857, 3.115741341099642, 3.0956245712579427, 3.0956151882815597, 3.0732500681075163, 3.0732510065768204, 3.0719259571382294, 4.579348453822705, 3.037469150583547, 3.0374670878995844, 3.3190304880198758, 3.0123039215181864, 3.005395605345844, 2.9971532766757227, 4.320405306836646, 5.342076266365253, 7.374992101676236, 4.726063884449429, 3.51615883952326, 5.19079714068876, 5.13529574068226, 4.864405366250942, 4.649524536471473, 9.90302607983146, 6.117487470055566, 4.582086213877233, 6.898398887928567, 4.843332840011947, 3.779244466703482, 4.646670136425648, 4.603591845185542, 3.754266976511104, 4.649955906633441, 4.86883297661647, 9.368168793143678, 17.491569895890834, 7.742587486484947, 5.526977595496469, 5.526944961684974, 5.291622191468125, 7.987527200830802, 4.647641992075212, 4.6476322455486105, 4.8643381519357165, 5.64486384704755, 6.234523151864362, 4.894549317629647, 4.995577064990006, 4.174162125850902, 4.82330302951469, 4.19449184387714, 4.870407128624492, 3.967405428748136, 3.708272369025675, 3.5969364441766487, 3.5690817075140946, 3.585076586041207, 4.053379310954679, 5.154285540200115, 5.190296200145019, 3.4713128324429463, 3.3750676878203807, 6.513941475058521, 3.3069411183206183, 7.264702443112637, 4.9430176551930085, 4.795347070857045, 5.837585406200984, 9.90302607983146, 3.2521186124129335, 3.844839331707738, 3.1153899001775716, 3.0363381081107264, 3.036187179245286, 3.259430464802009, 2.999238061206156, 2.976362212230217, 2.951912215137538, 2.9519060205029635, 2.951903669876568, 2.9518945680431465, 2.9283543121873867, 2.874748406385852, 2.8747473928265452, 2.858940841996671, 2.8589376765971366, 2.8351486722015524, 4.056366401426915, 2.8139524985029225, 2.808257092128988, 2.808309138337549, 2.8083088195922588, 2.8083061994172005, 2.7782600593257123, 2.7782600709503527, 2.772123337050766, 2.7721198161583245, 2.767972798900246, 2.767967240007222, 3.4639830041756654, 3.1589250434653207, 4.050601000126627, 3.4681088083183913, 4.305802409062764, 3.2939411382822237, 3.695522305579335, 5.005663301081205, 4.624131620658025, 9.90302607983146, 3.7147857489013227, 4.161854942129231, 5.5951867538493785, 4.551613058103621, 6.117487470055566, 4.592814474104083, 4.496901455782205, 2.888437059414448, 2.8884391617699126, 2.7181988297172803, 2.7117437050252744, 2.6803521846188025, 2.6695998415549, 3.0327158071480955, 2.6606124687635435, 2.633249925612985, 2.6062016396869874, 2.5963705054519135, 2.596373415668174, 2.5790204742989857, 2.579020118768255, 2.579021082094215, 2.5746242587799157, 2.5746257920386886, 2.5589080945700546, 2.5589097707997333, 2.5526271631392916, 2.552629180208321, 2.552629031958843, 2.552481729899794, 2.552481258249747, 2.5400212712841146, 2.531696749881639, 2.5282551122862684, 2.4992592432596625, 2.4992598990707147, 2.492451485991553, 3.728600899716906, 3.14511551405883, 2.954643911015452, 3.171836077920998, 3.506004403212212, 3.5712012981170655, 5.968624346906213, 4.769601982278978, 4.592814474104083, 3.1501719624330704, 9.90302607983146, 3.3143325912004626, 3.466242597175685, 6.898398887928567, 3.209852849977355, 4.649524536471473, 3.591517551420812, 3.9214897310567047, 5.5951867538493785, 2.3738392227434773, 2.3222963929655744, 2.684798085059659, 2.2741374091311517, 2.2472218822547303, 2.2382634257866156, 2.2382651660156703, 2.2382730673331506, 2.2382831859274366, 2.238286722122471, 2.231197548617957, 2.2286275093119676, 3.068766945134051, 2.2166878998268245, 3.4966640758421663, 2.2032737942646694, 2.64955746667665, 3.0885878165787366, 2.192814561580663, 2.458152856361563, 2.190515470014777, 2.190524876781793, 2.186546500490369, 2.184751101010261, 2.1721431570096708, 2.1721431219139573, 2.172154800210429, 2.161281219306314, 2.161280885002497, 2.1612831494636326, 2.4379758685994055, 2.4257041497454535, 4.050601000126627, 4.708895460824534, 2.839039609142444, 4.093736499869523, 4.624131620658025, 2.8461666315273053, 3.6893403567787946, 2.5476628066109788, 4.726063884449429, 5.13529574068226, 6.898398887928567, 9.90302607983146, 3.389002968048529, 3.172419872627085], \"Category\": [\"Default\", \"Default\", \"Default\", \"Default\", \"Default\", \"Default\", \"Default\", \"Default\", \"Default\", \"Default\", \"Default\", \"Default\", \"Default\", \"Default\", \"Default\", \"Default\", \"Default\", \"Default\", \"Default\", \"Default\", \"Default\", \"Default\", \"Default\", \"Default\", \"Default\", \"Default\", \"Default\", \"Default\", \"Default\", \"Default\", \"Topic1\", \"Topic1\", \"Topic1\", \"Topic1\", \"Topic1\", \"Topic1\", \"Topic1\", \"Topic1\", \"Topic1\", \"Topic1\", \"Topic1\", \"Topic1\", \"Topic1\", \"Topic1\", \"Topic1\", \"Topic1\", \"Topic1\", \"Topic1\", \"Topic1\", \"Topic1\", \"Topic1\", \"Topic1\", \"Topic1\", \"Topic1\", \"Topic1\", \"Topic1\", \"Topic1\", \"Topic1\", \"Topic1\", \"Topic1\", \"Topic1\", \"Topic1\", \"Topic1\", \"Topic1\", \"Topic1\", \"Topic1\", \"Topic1\", \"Topic1\", \"Topic1\", \"Topic1\", \"Topic1\", \"Topic1\", \"Topic1\", \"Topic1\", \"Topic1\", \"Topic1\", \"Topic1\", \"Topic1\", \"Topic1\", \"Topic1\", \"Topic2\", \"Topic2\", \"Topic2\", \"Topic2\", \"Topic2\", \"Topic2\", \"Topic2\", \"Topic2\", \"Topic2\", \"Topic2\", \"Topic2\", \"Topic2\", \"Topic2\", \"Topic2\", \"Topic2\", \"Topic2\", \"Topic2\", \"Topic2\", \"Topic2\", \"Topic2\", \"Topic2\", \"Topic2\", \"Topic2\", \"Topic2\", \"Topic2\", \"Topic2\", \"Topic2\", \"Topic2\", \"Topic2\", \"Topic2\", \"Topic2\", \"Topic2\", \"Topic2\", \"Topic2\", \"Topic2\", \"Topic3\", \"Topic3\", \"Topic3\", \"Topic3\", \"Topic3\", \"Topic3\", \"Topic3\", \"Topic3\", \"Topic3\", \"Topic3\", \"Topic3\", \"Topic3\", \"Topic3\", \"Topic3\", \"Topic3\", \"Topic3\", \"Topic3\", \"Topic3\", \"Topic3\", \"Topic3\", \"Topic3\", \"Topic3\", \"Topic3\", \"Topic3\", \"Topic3\", \"Topic3\", \"Topic3\", \"Topic3\", \"Topic3\", \"Topic3\", \"Topic3\", \"Topic3\", \"Topic3\", \"Topic3\", \"Topic3\", \"Topic3\", \"Topic3\", \"Topic3\", \"Topic3\", \"Topic3\", \"Topic3\", \"Topic3\", \"Topic3\", \"Topic3\", \"Topic3\", \"Topic3\", \"Topic3\", \"Topic4\", \"Topic4\", \"Topic4\", \"Topic4\", \"Topic4\", \"Topic4\", \"Topic4\", \"Topic4\", \"Topic4\", \"Topic4\", \"Topic4\", \"Topic4\", \"Topic4\", \"Topic4\", \"Topic4\", \"Topic4\", \"Topic4\", \"Topic4\", \"Topic4\", \"Topic4\", \"Topic4\", \"Topic4\", \"Topic4\", \"Topic4\", \"Topic4\", \"Topic4\", \"Topic4\", \"Topic4\", \"Topic4\", \"Topic4\", \"Topic4\", \"Topic4\", \"Topic4\", \"Topic4\", \"Topic4\", \"Topic4\", \"Topic4\", \"Topic4\", \"Topic4\", \"Topic4\", \"Topic4\", \"Topic4\", \"Topic4\", \"Topic4\", \"Topic4\", \"Topic4\", \"Topic4\", \"Topic4\", \"Topic4\", \"Topic5\", \"Topic5\", \"Topic5\", \"Topic5\", \"Topic5\", \"Topic5\", \"Topic5\", \"Topic5\", \"Topic5\", \"Topic5\", \"Topic5\", \"Topic5\", \"Topic5\", \"Topic5\", \"Topic5\", \"Topic5\", \"Topic5\", \"Topic5\", \"Topic5\", \"Topic5\", \"Topic5\", \"Topic5\", \"Topic5\", \"Topic5\", \"Topic5\", \"Topic5\", \"Topic5\", \"Topic5\", \"Topic5\", \"Topic5\", \"Topic5\", \"Topic5\", \"Topic5\", \"Topic5\", \"Topic5\", \"Topic5\", \"Topic5\", \"Topic5\", \"Topic5\", \"Topic5\", \"Topic5\", \"Topic5\", \"Topic5\", \"Topic5\", \"Topic5\", \"Topic5\"], \"logprob\": [30.0, 29.0, 28.0, 27.0, 26.0, 25.0, 24.0, 23.0, 22.0, 21.0, 20.0, 19.0, 18.0, 17.0, 16.0, 15.0, 14.0, 13.0, 12.0, 11.0, 10.0, 9.0, 8.0, 7.0, 6.0, 5.0, 4.0, 3.0, 2.0, 1.0, -6.6359, -6.6414, -6.832, -6.8976, -6.5611, -6.9284, -6.9342, -6.9706, -6.9706, -6.978, -6.9829, -6.9844, -6.5398, -6.1874, -7.0047, -7.0052, -7.008, -7.0463, -7.0577, -7.0577, -7.0706, -7.0706, -7.0714, -6.6805, -7.0916, -7.0916, -7.0063, -7.1066, -7.1108, -7.1158, -6.7502, -6.6218, -6.3897, -6.7618, -6.9868, -6.7276, -6.7426, -6.786, -6.8232, -6.3977, -6.7099, -6.8694, -6.7306, -6.8672, -6.9634, -6.914, -6.9202, -6.9677, -6.9472, -6.9492, -5.3553, -4.7439, -5.6523, -6.0168, -6.0168, -6.0845, -5.687, -6.2658, -6.2658, -6.2291, -6.0803, -5.9959, -6.2534, -6.2391, -6.4218, -6.2812, -6.4235, -6.2814, -6.515, -6.6109, -6.6602, -6.6732, -6.6702, -6.5503, -6.316, -6.3095, -6.7314, -6.7726, -6.1177, -6.8065, -6.0605, -6.429, -6.581, -6.5176, -6.5793, -6.7487, -6.5967, -6.8283, -6.8774, -6.8775, -6.8095, -6.9013, -6.9163, -6.9327, -6.9327, -6.9328, -6.9328, -6.9486, -6.9859, -6.9859, -6.9972, -6.9972, -7.0144, -6.6623, -7.03, -7.0342, -7.0342, -7.0342, -7.0342, -7.0568, -7.0568, -7.0615, -7.0615, -7.0647, -7.0647, -6.8635, -6.9599, -6.7921, -6.9187, -6.789, -6.9526, -6.9122, -6.7846, -6.8189, -6.5594, -6.9322, -6.8926, -6.8008, -6.8659, -6.8951, -6.9311, -6.9499, -6.7959, -6.7959, -6.932, -6.9376, -6.965, -6.9746, -6.8514, -6.9827, -7.0077, -7.033, -7.0424, -7.0424, -7.0592, -7.0592, -7.0592, -7.0634, -7.0634, -7.079, -7.079, -7.0852, -7.0852, -7.0852, -7.0854, -7.0854, -7.0979, -7.1063, -7.1099, -7.14, -7.14, -7.1472, -6.7876, -6.9496, -7.0102, -6.9557, -6.8832, -6.882, -6.5843, -6.7367, -6.889, -7.0176, -6.6813, -7.0124, -7.0028, -6.8774, -7.0268, -6.9888, -7.0353, -7.0359, -7.0399, -6.7195, -6.8022, -6.7115, -6.8871, -6.9366, -6.9541, -6.9541, -6.9542, -6.9542, -6.9542, -6.9679, -6.9729, -6.6692, -6.9971, -6.555, -7.0246, -6.8448, -6.6934, -7.0467, -6.9362, -7.0517, -7.0517, -7.0602, -7.0641, -7.0921, -7.0921, -7.0921, -7.1166, -7.1166, -7.1166, -6.9981, -7.0061, -6.5805, -6.6315, -6.9372, -6.7469, -6.7284, -6.9461, -6.9108, -7.0108, -6.8458, -6.8349, -6.8877, -6.8669, -6.9759, -6.9889], \"loglift\": [30.0, 29.0, 28.0, 27.0, 26.0, 25.0, 24.0, 23.0, 22.0, 21.0, 20.0, 19.0, 18.0, 17.0, 16.0, 15.0, 14.0, 13.0, 12.0, 11.0, 10.0, 9.0, 8.0, 7.0, 6.0, 5.0, 4.0, 3.0, 2.0, 1.0, 0.8207, 0.7605, 0.7496, 0.7249, 0.7145, 0.7125, 0.7102, 0.6952, 0.6952, 0.6916, 0.6896, 0.6895, 0.6857, 0.6811, 0.6808, 0.6808, 0.6796, 0.6632, 0.6582, 0.6582, 0.6526, 0.6526, 0.6522, 0.6438, 0.6433, 0.6433, 0.6399, 0.6366, 0.6347, 0.6325, 0.6323, 0.5486, 0.4582, 0.531, 0.6018, 0.4714, 0.4672, 0.478, 0.4859, 0.1554, 0.3249, 0.4543, 0.184, 0.4012, 0.553, 0.3957, 0.3989, 0.5554, 0.3618, 0.3139, 1.2533, 1.2403, 1.1469, 1.1195, 1.1195, 1.0953, 1.081, 1.0438, 1.0438, 1.0349, 1.0348, 1.0199, 1.0044, 0.9983, 0.9952, 0.9913, 0.9886, 0.9813, 0.9528, 0.9244, 0.9057, 0.9004, 0.8989, 0.8961, 0.8901, 0.8896, 0.87, 0.8569, 0.8542, 0.8434, 0.8024, 0.819, 0.6973, 0.564, -0.0262, 0.9179, 0.9025, 0.8813, 0.8578, 0.8578, 0.8549, 0.8463, 0.8389, 0.8307, 0.8307, 0.8307, 0.8307, 0.8229, 0.804, 0.804, 0.7983, 0.7983, 0.7894, 0.7834, 0.7813, 0.7791, 0.7791, 0.7791, 0.7791, 0.7673, 0.7673, 0.7648, 0.7648, 0.7631, 0.7631, 0.74, 0.7358, 0.6549, 0.6836, 0.5969, 0.7012, 0.6266, 0.4508, 0.4957, -0.0064, 0.6014, 0.5273, 0.3232, 0.4645, 0.1397, 0.3903, 0.3927, 0.9893, 0.9893, 0.9139, 0.9108, 0.8949, 0.8894, 0.885, 0.8847, 0.87, 0.855, 0.8494, 0.8494, 0.8393, 0.8393, 0.8393, 0.8368, 0.8368, 0.8274, 0.8274, 0.8236, 0.8236, 0.8236, 0.8235, 0.8235, 0.8158, 0.8107, 0.8085, 0.7899, 0.7899, 0.7854, 0.7422, 0.7504, 0.7523, 0.7359, 0.7083, 0.691, 0.4751, 0.547, 0.4325, 0.6809, -0.1282, 0.6353, 0.6, 0.0372, 0.6529, 0.3203, 0.5321, 0.4436, 0.0841, 1.2619, 1.2011, 1.1468, 1.1372, 1.0996, 1.0861, 1.0861, 1.0861, 1.086, 1.086, 1.0755, 1.0717, 1.0555, 1.0528, 1.0391, 1.0314, 1.0267, 1.0248, 1.014, 1.0103, 1.0101, 1.0101, 1.0034, 1.0003, 0.9781, 0.9781, 0.9781, 0.9587, 0.9586, 0.9586, 0.9567, 0.9537, 0.8665, 0.665, 0.8653, 0.6896, 0.5863, 0.8538, 0.6297, 0.8999, 0.447, 0.3749, 0.0269, -0.3139, 0.6495, 0.7026]}, \"token.table\": {\"Topic\": [1, 2, 3, 1, 3, 5, 1, 1, 2, 1, 1, 1, 2, 1, 2, 1, 2, 3, 4, 5, 1, 2, 1, 3, 1, 2, 3, 4, 1, 1, 4, 1, 2, 1, 3, 1, 1, 3, 4, 1, 3, 1, 3, 1, 3, 4, 1, 3, 1, 2, 1, 3, 1, 4, 1, 2, 4, 1, 2, 4, 1, 2, 1, 1, 1, 2, 1, 4, 1, 3, 1, 4, 1, 3, 1, 4, 1, 1, 5, 1, 2, 3, 1, 2, 4, 1, 4, 1, 1, 3, 4, 1, 2, 1, 2, 3, 4, 1, 5, 1, 3, 1, 2, 3, 1, 1, 2, 1, 4, 1, 3, 1, 5, 1, 2, 3, 4, 1, 3, 1, 3, 1, 2, 3, 4, 1, 3, 1, 2, 3, 5, 1, 3, 1, 4, 1, 2, 3, 1, 2, 3, 4, 1, 4, 1, 3, 1, 2, 1, 3, 1, 1, 2, 4, 1, 1, 3, 4, 1, 3, 1, 2, 3, 1, 2, 1, 1, 1, 2, 5, 1, 4, 1, 2, 1, 4, 1, 4, 1, 2, 3, 4, 5, 1, 4, 1, 3, 4, 1, 1, 2, 3, 4, 1, 2, 1, 4, 5, 1, 2, 1, 3, 4, 5, 1, 4, 1, 2, 3, 1, 2, 3, 1, 2, 3, 4, 1, 3, 1, 1, 1, 2, 3, 4, 1, 1, 1, 4, 1, 4, 1, 3, 1, 2, 3, 5, 1, 2, 3, 1, 5, 1, 2, 4, 1, 3, 1, 3, 1, 2, 3, 1, 4, 5, 1, 2, 4, 1, 5, 1, 1, 2, 4, 1, 5, 1, 2, 3, 5, 1, 2, 4, 1, 2, 1, 4, 1, 3, 1, 1, 2, 3, 1, 2, 1, 3, 1, 4, 1, 3, 1, 5, 1, 4, 1, 5, 1, 2, 3, 4, 1, 1, 3, 1, 4, 1, 1, 2, 1, 5, 1, 4, 1, 4, 1, 1, 4, 5, 1, 4, 1, 5, 1, 2, 3, 1, 1, 2, 3, 1, 2, 1, 1, 2, 3, 1, 2, 3, 4, 1, 2, 3, 1, 1, 1, 3, 1, 2, 1, 2, 3, 4, 1, 2, 1, 4, 1, 4, 1, 2, 3, 4, 1, 5, 1, 1, 2, 3, 1, 3, 1, 4, 1, 4, 1, 5, 1, 1, 2, 3, 1, 2, 3, 4, 1, 4, 1, 1, 1, 2, 3, 1, 2, 1, 2, 1, 2, 3, 1, 2, 3, 5, 1, 2, 3, 1, 1, 4, 1, 2, 3, 4, 5, 1, 2, 1, 2, 3, 1, 3, 1, 3, 4, 1, 3, 1, 1, 3, 5, 1, 4, 1, 2, 4, 5, 1, 2, 3, 1, 2, 3, 4, 1, 2, 1, 1, 3, 1, 1, 2, 1, 2, 1, 3, 1, 3, 1, 1, 3, 1, 1, 3, 1, 2, 4, 1, 4, 1, 4, 1, 2, 3, 4, 5, 1, 4, 1, 4, 1, 4, 5, 1, 4], \"Freq\": [0.3269316054654435, 0.16346580273272174, 0.3269316054654435, 0.24687694491971407, 0.49375388983942814, 0.24687694491971407, 0.6186025960223167, 0.21516287220597458, 0.6454886166179237, 0.4573422059744595, 0.6507768504603286, 0.41017633229261236, 0.41017633229261236, 0.18093071352683376, 0.7237228541073351, 0.28992234756093593, 0.28992234756093593, 0.14496117378046797, 0.14496117378046797, 0.14496117378046797, 0.3852972762743378, 0.3852972762743378, 0.3478566508122884, 0.3478566508122884, 0.4067800966618175, 0.27118673110787833, 0.13559336555393917, 0.13559336555393917, 0.4626881027819843, 0.3917529454546115, 0.3917529454546115, 0.5934525524128315, 0.19781751747094384, 0.2886850191801022, 0.5773700383602044, 0.4577180437339454, 0.3152748046978068, 0.3152748046978068, 0.3152748046978068, 0.26919452899693014, 0.26919452899693014, 0.33598061280676267, 0.6719612256135253, 0.3384502600370276, 0.3384502600370276, 0.3384502600370276, 0.34148873168733196, 0.34148873168733196, 0.31521678723185487, 0.31521678723185487, 0.3497798853723761, 0.3497798853723761, 0.3797588638561201, 0.3797588638561201, 0.2800178193615844, 0.2800178193615844, 0.2800178193615844, 0.3115407611308583, 0.3115407611308583, 0.3115407611308583, 0.23956903681505906, 0.7187071104451772, 0.7477411722043252, 0.6168119231603558, 0.1771521912832376, 0.7086087651329503, 0.3917532550151869, 0.3917532550151869, 0.3334180147066571, 0.6668360294133142, 0.3917756484079756, 0.3917756484079756, 0.3293604580230699, 0.6587209160461398, 0.5100102606825059, 0.25500513034125294, 0.650776651734583, 0.43972716687425506, 0.43972716687425506, 0.20732680362001177, 0.6219804108600353, 0.20732680362001177, 0.20853547933523728, 0.41707095867047456, 0.20853547933523728, 0.5568676670419711, 0.27843383352098555, 0.6639436298950904, 0.43940466258203364, 0.43940466258203364, 0.21970233129101682, 0.2043089026395354, 0.6129267079186063, 0.05717039728005904, 0.8003855619208267, 0.05717039728005904, 0.05717039728005904, 0.44677099228873857, 0.44677099228873857, 0.33876548668976153, 0.33876548668976153, 0.3165633835056138, 0.3165633835056138, 0.3165633835056138, 0.6145065257369979, 0.2789340690499006, 0.5578681380998012, 0.38774411058982156, 0.38774411058982156, 0.4122514281491983, 0.4122514281491983, 0.4467749365330222, 0.4467749365330222, 0.33508558819532397, 0.16754279409766198, 0.16754279409766198, 0.33508558819532397, 0.3293440863284561, 0.6586881726569122, 0.35993750716147915, 0.35993750716147915, 0.1997737242502914, 0.1997737242502914, 0.3995474485005828, 0.1997737242502914, 0.35993750565544874, 0.35993750565544874, 0.29507203429090667, 0.29507203429090667, 0.29507203429090667, 0.29507203429090667, 0.3209871098134464, 0.6419742196268928, 0.38774401921056834, 0.38774401921056834, 0.4304157474665196, 0.2152078737332598, 0.2152078737332598, 0.27530377405837414, 0.5506075481167483, 0.13765188702918707, 0.13765188702918707, 0.39251662245297175, 0.39251662245297175, 0.3387644421478748, 0.3387644421478748, 0.25205389717771726, 0.5041077943554345, 0.30749185967053105, 0.6149837193410621, 0.6419018079639877, 0.3174429878512533, 0.3174429878512533, 0.3174429878512533, 0.4626885159909735, 0.2852249697929064, 0.2852249697929064, 0.2852249697929064, 0.3607347684508911, 0.3607347684508911, 0.12519519181055028, 0.7511711508633017, 0.12519519181055028, 0.2801841151169697, 0.5603682302339394, 0.45651355294617213, 0.46037234542543853, 0.3237725651290405, 0.3237725651290405, 0.3237725651290405, 0.39175296820651506, 0.39175296820651506, 0.28807544818605335, 0.5761508963721067, 0.3907916826407238, 0.3907916826407238, 0.38840619037509116, 0.38840619037509116, 0.30293770568875017, 0.2019584704591668, 0.2019584704591668, 0.1009792352295834, 0.1009792352295834, 0.3851526109323728, 0.3851526109323728, 0.43015150996875934, 0.21507575498437967, 0.21507575498437967, 0.6280079832076841, 0.4447506843692028, 0.2223753421846014, 0.2223753421846014, 0.2223753421846014, 0.20017707403779197, 0.600531222113376, 0.27105116451579203, 0.27105116451579203, 0.27105116451579203, 0.278014364590449, 0.556028729180898, 0.28598686585560884, 0.28598686585560884, 0.28598686585560884, 0.28598686585560884, 0.38370016531802315, 0.38370016531802315, 0.43444337970396085, 0.21722168985198043, 0.21722168985198043, 0.1603971908743272, 0.6415887634973088, 0.1603971908743272, 0.34260740714397037, 0.34260740714397037, 0.17130370357198518, 0.17130370357198518, 0.2600888915573583, 0.5201777831147166, 0.6270043319863595, 0.6194890716181595, 0.4364824026974508, 0.2182412013487254, 0.2182412013487254, 0.2182412013487254, 0.6672998727039712, 0.45112349829586906, 0.3730853004088413, 0.3730853004088413, 0.39369749037355395, 0.39369749037355395, 0.35608652653600487, 0.35608652653600487, 0.42318513860567364, 0.21159256930283682, 0.21159256930283682, 0.21159256930283682, 0.23224474906122508, 0.23224474906122508, 0.46448949812245016, 0.37742151758433223, 0.37742151758433223, 0.6238960836754242, 0.20796536122514137, 0.20796536122514137, 0.35608615388830583, 0.35608615388830583, 0.5327271641876226, 0.2663635820938113, 0.4107760544683694, 0.2053880272341847, 0.2053880272341847, 0.4068095266785609, 0.4068095266785609, 0.4068095266785609, 0.41932220076870524, 0.20966110038435262, 0.20966110038435262, 0.4467730120129964, 0.4467730120129964, 0.46037482056838974, 0.26819711384930606, 0.26819711384930606, 0.26819711384930606, 0.4212585209727417, 0.4212585209727417, 0.2442756147182097, 0.4885512294364194, 0.2442756147182097, 0.2442756147182097, 0.19401331032218583, 0.5820399309665575, 0.19401331032218583, 0.21516332342297, 0.64548997026891, 0.2884968296260642, 0.2884968296260642, 0.3527151890851209, 0.3527151890851209, 0.6014748632581998, 0.5292063050222676, 0.2646031525111338, 0.2646031525111338, 0.6551150300640888, 0.2183716766880296, 0.33876346148505204, 0.33876346148505204, 0.38774416404227274, 0.38774416404227274, 0.3560861943043682, 0.3560861943043682, 0.4449938868504871, 0.4449938868504871, 0.3949920147611485, 0.3949920147611485, 0.44870665726850184, 0.44870665726850184, 0.28834158766918205, 0.28834158766918205, 0.5766831753383641, 0.28834158766918205, 0.5994034712810777, 0.30680206582064456, 0.6136041316412891, 0.37585330886791124, 0.37585330886791124, 0.45603491399617596, 0.5688025175424586, 0.2844012587712293, 0.4481898075853559, 0.4481898075853559, 0.30171987043635734, 0.30171987043635734, 0.36789067417265053, 0.36789067417265053, 0.4565115925408475, 0.3724674885477576, 0.3724674885477576, 0.3724674885477576, 0.39079142665021405, 0.39079142665021405, 0.43060825613348996, 0.43060825613348996, 0.2705977443270318, 0.2705977443270318, 0.5411954886540636, 0.6267187037284988, 0.46291953137711017, 0.23145976568855509, 0.23145976568855509, 0.10674444729602592, 0.8539555783682073, 0.6145097150961991, 0.2465260533782718, 0.2465260533782718, 0.4930521067565436, 0.5615794029165366, 0.1871931343055122, 0.1871931343055122, 0.1871931343055122, 0.24027747576622502, 0.24027747576622502, 0.48055495153245004, 0.45387005582469814, 0.4603748131300297, 0.361275952094502, 0.361275952094502, 0.180931781831085, 0.72372712732434, 0.17872504421984123, 0.17872504421984123, 0.35745008843968246, 0.17872504421984123, 0.20557781321227836, 0.616733439636835, 0.39552970550337896, 0.39552970550337896, 0.34620774196512505, 0.34620774196512505, 0.5536792693563899, 0.13841981733909747, 0.13841981733909747, 0.13841981733909747, 0.44677028645005007, 0.44677028645005007, 0.6460731764986853, 0.19266723158729546, 0.5780016947618865, 0.19266723158729546, 0.3553720258362639, 0.3553720258362639, 0.3745879754838288, 0.3745879754838288, 0.3179533456020766, 0.3179533456020766, 0.44677458916992274, 0.44677458916992274, 0.6584433483962471, 0.1291557895529818, 0.7749347373178908, 0.1291557895529818, 0.1535168843363021, 0.6140675373452084, 0.1535168843363021, 0.1535168843363021, 0.3462079939532152, 0.3462079939532152, 0.4626885875589672, 0.5884115975205745, 0.24670772786977915, 0.4934154557395583, 0.24670772786977915, 0.3023942562690186, 0.6047885125380372, 0.29629035400051495, 0.5925807080010299, 0.41293878947932605, 0.20646939473966303, 0.20646939473966303, 0.2162568200984075, 0.2162568200984075, 0.432513640196815, 0.2162568200984075, 0.20532164428775826, 0.6159649328632748, 0.20532164428775826, 0.5648328551588822, 0.4001185562069778, 0.4001185562069778, 0.32586378108172614, 0.32586378108172614, 0.32586378108172614, 0.32586378108172614, 0.32586378108172614, 0.2696673546292781, 0.5393347092585562, 0.41114994524837983, 0.20557497262418992, 0.20557497262418992, 0.3497802726466757, 0.3497802726466757, 0.217731416245606, 0.217731416245606, 0.217731416245606, 0.3560927533318834, 0.3560927533318834, 0.6025856066158628, 0.3522317887991913, 0.3522317887991913, 0.3522317887991913, 0.4012114200097169, 0.4012114200097169, 0.38946150348378694, 0.19473075174189347, 0.19473075174189347, 0.19473075174189347, 0.20230556913941536, 0.6069167074182461, 0.20230556913941536, 0.43011160539111354, 0.21505580269555677, 0.21505580269555677, 0.21505580269555677, 0.18897796626757224, 0.755911865070289, 0.6460751347812845, 0.30358769571744554, 0.30358769571744554, 0.6510573587727931, 0.7079053200268905, 0.2359684400089635, 0.23840790189155767, 0.715223705674673, 0.36127522654749855, 0.36127522654749855, 0.3387641723870376, 0.3387641723870376, 0.6654697958706342, 0.3607343102792424, 0.3607343102792424, 0.6584429012606655, 0.3478565281673484, 0.3478565281673484, 0.32973745764209267, 0.32973745764209267, 0.32973745764209267, 0.40011845121502737, 0.40011845121502737, 0.3884059590687784, 0.3884059590687784, 0.21236402640905064, 0.21236402640905064, 0.21236402640905064, 0.21236402640905064, 0.21236402640905064, 0.3851530426417104, 0.3851530426417104, 0.39177557601529167, 0.39177557601529167, 0.3513497730325725, 0.3513497730325725, 0.3513497730325725, 0.36876641334018684, 0.36876641334018684], \"Term\": [\"abrupt\", \"abrupt\", \"abrupt\", \"account\", \"account\", \"account\", \"advance\", \"advertise\", \"advertise\", \"ago\", \"american\", \"anticompetitive\", \"anticompetitive\", \"app\", \"app\", \"appeal\", \"appeal\", \"appeal\", \"appeal\", \"appeal\", \"appear\", \"appear\", \"appears\", \"appears\", \"asbestos\", \"asbestos\", \"asbestos\", \"asbestos\", \"assault\", \"assistant\", \"assistant\", \"bingbing\", \"bingbing\", \"blackpool\", \"blackpool\", \"bloodbath\", \"boeing\", \"boeing\", \"boeing\", \"border\", \"border\", \"brainstorm\", \"brainstorm\", \"brand\", \"brand\", \"brand\", \"brendan\", \"brendan\", \"bring\", \"bring\", \"camera\", \"camera\", \"campus\", \"campus\", \"carrier\", \"carrier\", \"carrier\", \"cars\", \"cars\", \"cars\", \"cartoon\", \"cartoon\", \"central\", \"charging\", \"components\", \"components\", \"confident\", \"confident\", \"confirms\", \"confirms\", \"contractors\", \"contractors\", \"couple\", \"couple\", \"creative\", \"creative\", \"crime\", \"crushed\", \"crushed\", \"dakota\", \"dakota\", \"dakota\", \"darren\", \"darren\", \"darren\", \"date\", \"date\", \"decommissioned\", \"defends\", \"defends\", \"defends\", \"demonstrated\", \"demonstrated\", \"demonstrators\", \"demonstrators\", \"demonstrators\", \"demonstrators\", \"dent\", \"dent\", \"departments\", \"departments\", \"detwiler\", \"detwiler\", \"detwiler\", \"development\", \"dissent\", \"dissent\", \"diversified\", \"diversified\", \"diverted\", \"diverted\", \"drinkablea\", \"drinkablea\", \"easily\", \"easily\", \"easily\", \"easily\", \"efl\", \"efl\", \"english\", \"english\", \"eroded\", \"eroded\", \"eroded\", \"eroded\", \"euphoria\", \"euphoria\", \"expensive\", \"expensive\", \"expensive\", \"expensive\", \"experienced\", \"experienced\", \"father\", \"father\", \"fcc\", \"fcc\", \"fcc\", \"fiction\", \"fiction\", \"fiction\", \"fiction\", \"fieldsan\", \"fieldsan\", \"first\", \"first\", \"folic\", \"folic\", \"football\", \"football\", \"forcibly\", \"forum\", \"forum\", \"forum\", \"founders\", \"ftc\", \"ftc\", \"ftc\", \"gamer\", \"gamer\", \"gas\", \"gas\", \"gas\", \"genes\", \"genes\", \"goals\", \"goods\", \"grayscale\", \"grayscale\", \"grayscale\", \"hairs\", \"hairs\", \"half\", \"half\", \"hardware\", \"hardware\", \"hello\", \"hello\", \"help\", \"help\", \"help\", \"help\", \"help\", \"humbled\", \"humbled\", \"imports\", \"imports\", \"imports\", \"impressive\", \"information\", \"information\", \"information\", \"information\", \"ivy\", \"ivy\", \"japan\", \"japan\", \"japan\", \"kept\", \"kept\", \"kidney\", \"kidney\", \"kidney\", \"kidney\", \"korean\", \"korean\", \"lance\", \"lance\", \"lance\", \"latest\", \"latest\", \"latest\", \"lets\", \"lets\", \"lets\", \"lets\", \"lucas\", \"lucas\", \"management\", \"manchester\", \"matter\", \"matter\", \"matter\", \"matter\", \"matthew\", \"medicines\", \"merchants\", \"merchants\", \"mick\", \"mick\", \"milwaukee\", \"milwaukee\", \"months\", \"months\", \"months\", \"months\", \"mostly\", \"mostly\", \"mostly\", \"neck\", \"neck\", \"need\", \"need\", \"need\", \"network\", \"network\", \"ninth\", \"ninth\", \"nl\", \"nl\", \"nl\", \"nola\", \"nola\", \"nola\", \"others\", \"others\", \"others\", \"passengers\", \"passengers\", \"pen\", \"pennsylvania\", \"pennsylvania\", \"pennsylvania\", \"personal\", \"personal\", \"pests\", \"pests\", \"pests\", \"pests\", \"pharmaembraces\", \"pharmaembraces\", \"pharmaembraces\", \"planned\", \"planned\", \"plus\", \"plus\", \"pollozi\", \"pollozi\", \"posts\", \"pounding\", \"pounding\", \"pounding\", \"presidential\", \"presidential\", \"press\", \"press\", \"prevent\", \"prevent\", \"probables\", \"probables\", \"propaganda\", \"propaganda\", \"publication\", \"publication\", \"pumps\", \"pumps\", \"purchasing\", \"purchasing\", \"purchasing\", \"purchasing\", \"quickly\", \"ramping\", \"ramping\", \"ratings\", \"ratings\", \"rays\", \"reached\", \"reached\", \"really\", \"really\", \"rear\", \"rear\", \"refs\", \"refs\", \"render\", \"rented\", \"rented\", \"rented\", \"reportedly\", \"reportedly\", \"response\", \"response\", \"rife\", \"rife\", \"rife\", \"risk\", \"robocar\", \"robocar\", \"robocar\", \"roundup\", \"roundup\", \"running\", \"said\", \"said\", \"said\", \"schmeichel\", \"schmeichel\", \"schmeichel\", \"schmeichel\", \"scientists\", \"scientists\", \"scientists\", \"seconds\", \"seems\", \"sees\", \"sees\", \"serious\", \"serious\", \"seriouslyjust\", \"seriouslyjust\", \"seriouslyjust\", \"seriouslyjust\", \"shell\", \"shell\", \"shuttles\", \"shuttles\", \"sketch\", \"sketch\", \"sky\", \"sky\", \"sky\", \"sky\", \"slice\", \"slice\", \"sorts\", \"sothursday\", \"sothursday\", \"sothursday\", \"sporting\", \"sporting\", \"stays\", \"stays\", \"stock\", \"stock\", \"strategist\", \"strategist\", \"streets\", \"summertime\", \"summertime\", \"summertime\", \"swimming\", \"swimming\", \"swimming\", \"swimming\", \"swing\", \"swing\", \"system\", \"tariffs\", \"tech\", \"tech\", \"tech\", \"telling\", \"telling\", \"tested\", \"tested\", \"tfue\", \"tfue\", \"tfue\", \"thanks\", \"thanks\", \"thanks\", \"thanks\", \"thousands\", \"thousands\", \"thousands\", \"thursday\", \"timbers\", \"timbers\", \"today\", \"today\", \"today\", \"today\", \"today\", \"tokens\", \"tokens\", \"top\", \"top\", \"top\", \"transportation\", \"transportation\", \"trash\", \"trash\", \"trash\", \"trick\", \"trick\", \"trumps\", \"tumultuous\", \"tumultuous\", \"tumultuous\", \"turn\", \"turn\", \"unclearwhat\", \"unclearwhat\", \"unclearwhat\", \"unclearwhat\", \"unlimited\", \"unlimited\", \"unlimited\", \"used\", \"used\", \"used\", \"used\", \"value\", \"value\", \"veteran\", \"vicious\", \"vicious\", \"violence\", \"wan\", \"wan\", \"warning\", \"warning\", \"wary\", \"wary\", \"week\", \"week\", \"weeks\", \"went\", \"went\", \"whether\", \"widespread\", \"widespread\", \"winter\", \"winter\", \"winter\", \"worst\", \"worst\", \"wouldnt\", \"wouldnt\", \"writer\", \"writer\", \"writer\", \"writer\", \"writer\", \"wsj\", \"wsj\", \"year\", \"year\", \"yet\", \"yet\", \"yet\", \"youre\", \"youre\"]}, \"R\": 30, \"lambda.step\": 0.01, \"plot.opts\": {\"xlab\": \"PC1\", \"ylab\": \"PC2\"}, \"topic.order\": [4, 1, 2, 5, 3]};\n",
       "\n",
       "function LDAvis_load_lib(url, callback){\n",
       "  var s = document.createElement('script');\n",
       "  s.src = url;\n",
       "  s.async = true;\n",
       "  s.onreadystatechange = s.onload = callback;\n",
       "  s.onerror = function(){console.warn(\"failed to load library \" + url);};\n",
       "  document.getElementsByTagName(\"head\")[0].appendChild(s);\n",
       "}\n",
       "\n",
       "if(typeof(LDAvis) !== \"undefined\"){\n",
       "   // already loaded: just create the visualization\n",
       "   !function(LDAvis){\n",
       "       new LDAvis(\"#\" + \"ldavis_el21948138263857441531384183\", ldavis_el21948138263857441531384183_data);\n",
       "   }(LDAvis);\n",
       "}else if(typeof define === \"function\" && define.amd){\n",
       "   // require.js is available: use it to load d3/LDAvis\n",
       "   require.config({paths: {d3: \"https://d3js.org/d3.v5\"}});\n",
       "   require([\"d3\"], function(d3){\n",
       "      window.d3 = d3;\n",
       "      LDAvis_load_lib(\"https://cdn.jsdelivr.net/gh/bmabey/pyLDAvis@3.4.0/pyLDAvis/js/ldavis.v3.0.0.js\", function(){\n",
       "        new LDAvis(\"#\" + \"ldavis_el21948138263857441531384183\", ldavis_el21948138263857441531384183_data);\n",
       "      });\n",
       "    });\n",
       "}else{\n",
       "    // require.js not available: dynamically load d3 & LDAvis\n",
       "    LDAvis_load_lib(\"https://d3js.org/d3.v5.js\", function(){\n",
       "         LDAvis_load_lib(\"https://cdn.jsdelivr.net/gh/bmabey/pyLDAvis@3.4.0/pyLDAvis/js/ldavis.v3.0.0.js\", function(){\n",
       "                 new LDAvis(\"#\" + \"ldavis_el21948138263857441531384183\", ldavis_el21948138263857441531384183_data);\n",
       "            })\n",
       "         });\n",
       "}\n",
       "</script>"
      ],
      "text/plain": [
       "PreparedData(topic_coordinates=              x         y  topics  cluster       Freq\n",
       "topic                                                \n",
       "3      0.010888  0.020311       1        1  29.207474\n",
       "0     -0.033909  0.001104       2        1  23.923273\n",
       "1      0.009390 -0.014296       3        1  21.942803\n",
       "4      0.008373 -0.003866       4        1  17.194135\n",
       "2      0.005259 -0.003253       5        1   7.732314, topic_info=               Term       Freq      Total Category  logprob  loglift\n",
       "1628  demonstrators  17.000000  17.000000  Default  30.0000  30.0000\n",
       "2543        roundup   9.000000   9.000000  Default  29.0000  29.0000\n",
       "1420     summertime   7.000000   7.000000  Default  28.0000  28.0000\n",
       "1362            gas   7.000000   7.000000  Default  27.0000  27.0000\n",
       "308             app   5.000000   5.000000  Default  26.0000  26.0000\n",
       "...             ...        ...        ...      ...      ...      ...\n",
       "2606    unclearwhat   0.577687   5.135296   Topic5  -6.8349   0.3749\n",
       "1626         appeal   0.547962   6.898399   Topic5  -6.8877   0.0269\n",
       "379            help   0.559457   9.903026   Topic5  -6.8669  -0.3139\n",
       "859       expensive   0.501697   3.389003   Topic5  -6.9759   0.6495\n",
       "373           bring   0.495246   3.172420   Topic5  -6.9889   0.7026\n",
       "\n",
       "[257 rows x 6 columns], token_table=      Topic      Freq     Term\n",
       "term                          \n",
       "1474      1  0.326932   abrupt\n",
       "1474      2  0.163466   abrupt\n",
       "1474      3  0.326932   abrupt\n",
       "987       1  0.246877  account\n",
       "987       3  0.493754  account\n",
       "...     ...       ...      ...\n",
       "1157      1  0.351350      yet\n",
       "1157      4  0.351350      yet\n",
       "1157      5  0.351350      yet\n",
       "772       1  0.368766    youre\n",
       "772       4  0.368766    youre\n",
       "\n",
       "[483 rows x 3 columns], R=30, lambda_step=0.01, plot_opts={'xlab': 'PC1', 'ylab': 'PC2'}, topic_order=[4, 1, 2, 5, 3])"
      ]
     },
     "execution_count": 51,
     "metadata": {},
     "output_type": "execute_result"
    }
   ],
   "source": [
    "viz"
   ]
  },
  {
   "cell_type": "markdown",
   "id": "fa8b14e9",
   "metadata": {},
   "source": [
    "⚠️ with pyLDAvis.gensim.prepare, the corpus is a BOW, not a TF-IDF"
   ]
  }
 ],
 "metadata": {
  "kernelspec": {
   "display_name": "env",
   "language": "python",
   "name": "python3"
  },
  "language_info": {
   "codemirror_mode": {
    "name": "ipython",
    "version": 3
   },
   "file_extension": ".py",
   "mimetype": "text/x-python",
   "name": "python",
   "nbconvert_exporter": "python",
   "pygments_lexer": "ipython3",
   "version": "3.12.1"
  }
 },
 "nbformat": 4,
 "nbformat_minor": 5
}
